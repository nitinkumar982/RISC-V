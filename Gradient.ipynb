{
  "nbformat": 4,
  "nbformat_minor": 0,
  "metadata": {
    "colab": {
      "provenance": []
    },
    "kernelspec": {
      "name": "python3",
      "display_name": "Python 3"
    },
    "language_info": {
      "name": "python"
    }
  },
  "cells": [
    {
      "cell_type": "code",
      "source": [
        "import pandas as pd\n",
        "import numpy as np\n",
        "import matplotlib.pyplot as plt\n"
      ],
      "metadata": {
        "id": "jL8rqpDsjPg2"
      },
      "execution_count": 2,
      "outputs": []
    },
    {
      "cell_type": "code",
      "source": [
        "dataset = pd.read_csv('studentscores.csv')\n",
        "plt.scatter(dataset['Hours'], dataset['Scores'])\n",
        "plt.show()"
      ],
      "metadata": {
        "colab": {
          "base_uri": "https://localhost:8080/",
          "height": 430
        },
        "id": "8AzLW3Njjdfg",
        "outputId": "ebfc5bc3-d1a5-48a1-99c0-ba849ab634c3"
      },
      "execution_count": 4,
      "outputs": [
        {
          "output_type": "display_data",
          "data": {
            "text/plain": [
              "<Figure size 640x480 with 1 Axes>"
            ],
            "image/png": "[encoded data removed]"
          },
          "metadata": {}
        }
      ]
    },
    {
      "cell_type": "code",
      "source": [
        "X = dataset.iloc[:,:-1].values\n",
        "Y = dataset.iloc[:,1].values"
      ],
      "metadata": {
        "id": "rkiwWo0znju_"
      },
      "execution_count": 5,
      "outputs": []
    },
    {
      "cell_type": "code",
      "source": [
        "print(X)"
      ],
      "metadata": {
        "colab": {
          "base_uri": "https://localhost:8080/"
        },
        "id": "9VAqsdTBrUxA",
        "outputId": "44ac1e5e-fa07-489c-f5f7-9c694d316139"
      },
      "execution_count": 8,
      "outputs": [
        {
          "output_type": "stream",
          "name": "stdout",
          "text": [
            "[[2.5]\n",
            " [5.1]\n",
            " [3.2]\n",
            " [8.5]\n",
            " [3.5]\n",
            " [1.5]\n",
            " [9.2]\n",
            " [5.5]\n",
            " [8.3]\n",
            " [2.7]\n",
            " [7.7]\n",
            " [5.9]\n",
            " [4.5]\n",
            " [3.3]\n",
            " [1.1]\n",
            " [8.9]\n",
            " [2.5]\n",
            " [1.9]\n",
            " [6.1]\n",
            " [7.4]\n",
            " [2.7]\n",
            " [4.8]\n",
            " [3.8]\n",
            " [6.9]\n",
            " [7.8]]\n"
          ]
        }
      ]
    },
    {
      "cell_type": "markdown",
      "source": [
        "Y = Mx + c"
      ],
      "metadata": {
        "id": "vMS2WK-ormHA"
      }
    },
    {
      "cell_type": "code",
      "source": [
        "class Model():\n",
        "  def __init__(self, learning_rate, iterations):\n",
        "    self.learning_rate = learning_rate\n",
        "    self.iterations = iterations\n",
        "\n",
        "  def predict(self, X):\n",
        "    return X.dot(self.slope) + self.const\n",
        "\n",
        "  def fit(self, X, Y):\n",
        "    self.m, self.n = X.shape\n",
        "    self.slope = np.zeros(self.n)\n",
        "    self.const = 0\n",
        "    self.X = X\n",
        "    self.Y = Y\n",
        "\n",
        "    for i in range(self.iterations):\n",
        "      self.update_weights()\n",
        "    return self\n",
        "\n",
        "  def update_weights(self):\n",
        "    Y_pred = self.predict(self.X)\n",
        "    dW = - (2 * (self.X.T).dot(self.Y - Y_pred)) / self.m\n",
        "    db = - 2 * np.sum(self.Y - Y_pred) / self.m\n",
        "\n",
        "    self.slope -= self.learning_rate * dW\n",
        "    self.const -= self.learning_rate * db\n",
        "    return self"
      ],
      "metadata": {
        "id": "H1Nv488Fr0br"
      },
      "execution_count": 16,
      "outputs": []
    },
    {
      "cell_type": "code",
      "source": [
        "model = Model(learning_rate=0.01, iterations=1000)\n",
        "model.fit(X, Y)"
      ],
      "metadata": {
        "colab": {
          "base_uri": "https://localhost:8080/"
        },
        "id": "thaq5LPLwRBK",
        "outputId": "e3d918be-e291-4d49-9d6f-b6035e3f2b1a"
      },
      "execution_count": 17,
      "outputs": [
        {
          "output_type": "execute_result",
          "data": {
            "text/plain": [
              "<__main__.Model at 0x7f684e04a1e0>"
            ]
          },
          "metadata": {},
          "execution_count": 17
        }
      ]
    },
    {
      "cell_type": "code",
      "source": [
        "Y_pred = model.predict(X)\n",
        "print(Y_pred)"
      ],
      "metadata": {
        "colab": {
          "base_uri": "https://localhost:8080/"
        },
        "id": "wnH2-gWDwbHk",
        "outputId": "5f248f63-6cb7-4816-d511-6089199c18d4"
      },
      "execution_count": 18,
      "outputs": [
        {
          "output_type": "stream",
          "name": "stdout",
          "text": [
            "[26.91171724 52.33687281 33.75695143 85.58515317 36.69062323 17.13281125\n",
            " 92.43038736 56.24843521 83.62937197 28.86749844 77.76202838 60.1599976\n",
            " 46.46952922 34.73484203 13.22124886 89.49671557 26.91171724 21.04437365\n",
            " 62.1157788  74.82835658 28.86749844 49.40320102 39.62429503 69.93890359\n",
            " 78.73991898]\n"
          ]
        }
      ]
    },
    {
      "cell_type": "code",
      "source": [
        "plt.scatter(dataset['Hours'], dataset['Scores'])\n",
        "plt.plot(X, Y_pred, color='red')\n",
        "plt.show()"
      ],
      "metadata": {
        "colab": {
          "base_uri": "https://localhost:8080/",
          "height": 430
        },
        "id": "5TRFA3wLwok0",
        "outputId": "26db407c-bd28-4eef-f19b-87ed879250c6"
      },
      "execution_count": 19,
      "outputs": [
        {
          "output_type": "display_data",
          "data": {
            "text/plain": [
              "<Figure size 640x480 with 1 Axes>"
            ],
            "image/png": "[encoded data removed]"
          },
          "metadata": {}
        }
      ]
    }
  ]
}